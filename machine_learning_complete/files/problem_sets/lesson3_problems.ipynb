{
 "cells": [
  {
   "cell_type": "markdown",
   "metadata": {},
   "source": [
    "# Lesson 3 - Problem Set\n",
    "\n",
    "Please solve the questions in this notebook and submit the completed notebook. The timestamp of submission will be considered the timestamp of completion.\n",
    "\n",
    "1. Using the Tawian credit card data set provided in class (i.e. Data Set 2), implement a logistic regression model to classify individuals likely to default on their credit in Taiwan."
   ]
  }
 ],
 "metadata": {
  "kernelspec": {
   "display_name": "Python 3",
   "language": "python",
   "name": "python3"
  },
  "language_info": {
   "codemirror_mode": {
    "name": "ipython",
    "version": 3
   },
   "file_extension": ".py",
   "mimetype": "text/x-python",
   "name": "python",
   "nbconvert_exporter": "python",
   "pygments_lexer": "ipython3",
   "version": "3.6.6"
  }
 },
 "nbformat": 4,
 "nbformat_minor": 2
}
